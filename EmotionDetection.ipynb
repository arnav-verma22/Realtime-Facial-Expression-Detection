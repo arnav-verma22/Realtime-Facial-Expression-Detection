{
 "cells": [
  {
   "cell_type": "code",
   "execution_count": 3,
   "metadata": {},
   "outputs": [
    {
     "name": "stdout",
     "output_type": "stream",
     "text": [
      "Collecting opencv-python\n",
      "  Downloading https://files.pythonhosted.org/packages/33/c9/484c03aa576f2e0ad4d1e8b98128b376c13698e729cb875003730dd648f7/opencv_python-4.4.0.46-cp37-cp37m-win_amd64.whl (33.5MB)\n",
      "Requirement already satisfied: numpy>=1.14.5 in c:\\users\\arnav verma\\anaconda3\\lib\\site-packages (from opencv-python) (1.16.2)\n",
      "Installing collected packages: opencv-python\n",
      "Successfully installed opencv-python-4.4.0.46\n"
     ]
    }
   ],
   "source": [
    "!pip install opencv-python"
   ]
  },
  {
   "cell_type": "code",
   "execution_count": 4,
   "metadata": {
    "id": "P7_Zm-Ado9Sd"
   },
   "outputs": [
    {
     "name": "stderr",
     "output_type": "stream",
     "text": [
      "Using TensorFlow backend.\n"
     ]
    }
   ],
   "source": [
    "#Importing Libraries\n",
    "import cv2\n",
    "import os\n",
    "import numpy as np\n",
    "from sklearn.model_selection import train_test_split\n",
    "from sklearn.preprocessing import LabelEncoder\n",
    "from keras.utils import np_utils\n",
    "import tensorflow as tf\n",
    "from tensorflow.keras.models import Sequential\n",
    "from keras.callbacks import ModelCheckpoint\n",
    "from keras.layers import Dense, Flatten, Dropout, Conv2D, MaxPooling2D, Activation\n",
    "from keras.layers import Conv2D, MaxPooling2D\n",
    "from tensorflow.keras.optimizers import Adam\n",
    "from keras.models import load_model\n",
    "from sklearn.preprocessing import LabelEncoder"
   ]
  },
  {
   "cell_type": "code",
   "execution_count": 7,
   "metadata": {
    "id": "2Kc-96SSo9Su"
   },
   "outputs": [],
   "source": [
    "# Defining Variables and Setting path\n",
    "images=[]\n",
    "targets=[]\n",
    "\n",
    "# {angry : 0, happy : 1, sad : 2,neutral : 3, surprise : 4 } - 5 Diffetent EMOTIONS\n",
    "angry= r'C:\\Users\\Arnav Verma\\Downloads\\Emotion-Detection-Emotion-Detection-Branch\\Dataset\\angry'\n",
    "happy=r'C:\\Users\\Arnav Verma\\Downloads\\Emotion-Detection-Emotion-Detection-Branch\\Dataset\\happy'\n",
    "sad=r'C:\\Users\\Arnav Verma\\Downloads\\Emotion-Detection-Emotion-Detection-Branch\\Dataset\\sad'\n",
    "neutral=r'C:\\Users\\Arnav Verma\\Downloads\\Emotion-Detection-Emotion-Detection-Branch\\Dataset\\neutral'\n",
    "surprise=r'C:\\Users\\Arnav Verma\\Downloads\\Emotion-Detection-Emotion-Detection-Branch\\Dataset\\surprise'\n",
    "fear=r'C:\\Users\\Arnav Verma\\Downloads\\Emotion-Detection-Emotion-Detection-Branch\\Dataset\\fear'\n",
    "disgust=r'C:\\Users\\Arnav Verma\\Downloads\\Emotion-Detection-Emotion-Detection-Branch\\Dataset\\disgust'"
   ]
  },
  {
   "cell_type": "code",
   "execution_count": 8,
   "metadata": {
    "colab": {
     "base_uri": "https://localhost:8080/",
     "height": 229
    },
    "id": "OKlQWcW-o9Sv",
    "outputId": "5a082273-f055-4f63-ae72-1550383f0fcf",
    "tags": []
   },
   "outputs": [],
   "source": [
    "# Getting Image, Resizing, Converting It To Gray Scale, Storing in List Variables\n",
    "content=os.listdir(angry)\n",
    "\n",
    "for image in content:\n",
    "    try:\n",
    "        image_path=angry + '\\\\'+ image\n",
    "        image=cv2.imread(image_path)\n",
    "        image_grey=cv2.cvtColor(image,cv2.COLOR_BGR2GRAY)\n",
    "        resized_image=cv2.resize(image_grey,(48,48))\n",
    "        images.append(resized_image)\n",
    "        targets.append(0)\n",
    "    except Exception as e:\n",
    "        print(\"exception\", e)"
   ]
  },
  {
   "cell_type": "code",
   "execution_count": 9,
   "metadata": {
    "id": "3JQVgoUio9Sx",
    "tags": []
   },
   "outputs": [],
   "source": [
    "# Getting Image, Resizing, Converting It To Gray Scale, Storing in List Variables\n",
    "content=os.listdir(happy)\n",
    "\n",
    "for image in content:\n",
    "    try:\n",
    "        image_path=happy + '\\\\'+ image\n",
    "        image=cv2.imread(image_path)\n",
    "        image_grey=cv2.cvtColor(image,cv2.COLOR_BGR2GRAY)\n",
    "        resized_image=cv2.resize(image_grey,(48,48))\n",
    "        images.append(resized_image)\n",
    "        targets.append(1)\n",
    "    except Exception as e:\n",
    "        print(\"exception\", e)"
   ]
  },
  {
   "cell_type": "code",
   "execution_count": 10,
   "metadata": {
    "id": "2sGtJQFmo9Sy"
   },
   "outputs": [],
   "source": [
    "# Getting Image, Resizing, Converting It To Gray Scale, Storing in List Variables\n",
    "content=os.listdir(sad)\n",
    "\n",
    "for image in content:\n",
    "    try:\n",
    "        image_path=sad + '\\\\'+ image\n",
    "        image=cv2.imread(image_path)\n",
    "        image_grey=cv2.cvtColor(image,cv2.COLOR_BGR2GRAY)\n",
    "        resized_image=cv2.resize(image_grey,(48,48))\n",
    "        images.append(resized_image)\n",
    "        targets.append(2)\n",
    "    except Exception as e:\n",
    "        print(\"exception\", e)"
   ]
  },
  {
   "cell_type": "code",
   "execution_count": 11,
   "metadata": {
    "id": "vjAU7qCWo9Sz"
   },
   "outputs": [],
   "source": [
    "# Getting Image, Resizing, Converting It To Gray Scale, Storing in List Variables\n",
    "content=os.listdir(neutral)\n",
    "\n",
    "for image in content:\n",
    "    try:\n",
    "        image_path=neutral + '\\\\'+ image\n",
    "        image=cv2.imread(image_path)\n",
    "        image_grey=cv2.cvtColor(image,cv2.COLOR_BGR2GRAY)\n",
    "        resized_image=cv2.resize(image_grey,(48,48))\n",
    "        images.append(resized_image)\n",
    "        targets.append(3)\n",
    "    except Exception as e:\n",
    "        print(\"exception\", e)"
   ]
  },
  {
   "cell_type": "code",
   "execution_count": 12,
   "metadata": {
    "id": "rjzAv0CNo9S0"
   },
   "outputs": [],
   "source": [
    "# Getting Image, Resizing, Converting It To Gray Scale, Storing in List Variables\n",
    "content=os.listdir(surprise)\n",
    "\n",
    "for image in content:\n",
    "    try:\n",
    "        image_path=surprise + '\\\\'+ image\n",
    "        image=cv2.imread(image_path)\n",
    "        image_grey=cv2.cvtColor(image,cv2.COLOR_BGR2GRAY)\n",
    "        resized_image=cv2.resize(image_grey,(48,48))\n",
    "        images.append(resized_image)\n",
    "        targets.append(4)\n",
    "    except Exception as e:\n",
    "        print(\"exception\", e)"
   ]
  },
  {
   "cell_type": "code",
   "execution_count": 13,
   "metadata": {
    "id": "wLph4jxSo9S1"
   },
   "outputs": [],
   "source": [
    "# Getting Image, Resizing, Converting It To Gray Scale, Storing in List Variables\n",
    "content=os.listdir(fear)\n",
    "\n",
    "for image in content:\n",
    "    try:\n",
    "        image_path=fear + '\\\\'+ image\n",
    "        image=cv2.imread(image_path)\n",
    "        image_grey=cv2.cvtColor(image,cv2.COLOR_BGR2GRAY)\n",
    "        resized_image=cv2.resize(image_grey,(48,48))\n",
    "        images.append(resized_image)\n",
    "        targets.append(5)\n",
    "    except Exception as e:\n",
    "        print(\"exception\", e)"
   ]
  },
  {
   "cell_type": "code",
   "execution_count": 14,
   "metadata": {
    "id": "NAK9Upo1o9S1"
   },
   "outputs": [],
   "source": [
    "# Getting Image, Resizing, Converting It To Gray Scale, Storing in List Variables\n",
    "content=os.listdir(disgust)\n",
    "\n",
    "for image in content:\n",
    "    try:\n",
    "        image_path=disgust + '\\\\'+ image\n",
    "        image=cv2.imread(image_path)\n",
    "        image_grey=cv2.cvtColor(image,cv2.COLOR_BGR2GRAY)\n",
    "        resized_image=cv2.resize(image_grey,(48,48))\n",
    "        images.append(resized_image)\n",
    "        targets.append(6)\n",
    "    except Exception as se:\n",
    "        print(\"exception\", e)"
   ]
  },
  {
   "cell_type": "code",
   "execution_count": 15,
   "metadata": {
    "id": "qSNAHec7o9S2"
   },
   "outputs": [],
   "source": [
    "# Normalization\n",
    "images = np.array(images)/255.0\n",
    "targets = np.array(targets)/255.0"
   ]
  },
  {
   "cell_type": "code",
   "execution_count": 16,
   "metadata": {
    "id": "i7kDDjdao9S2"
   },
   "outputs": [],
   "source": [
    "# Defining list variable for training \n",
    "X_train, X_test, Y_train, Y_test = train_test_split(images, targets, test_size=0.3)"
   ]
  },
  {
   "cell_type": "code",
   "execution_count": 17,
   "metadata": {
    "id": "QOXZseiEo9S3",
    "outputId": "87bcafe3-3350-4a0b-e4b3-03f6e5d2bd7d"
   },
   "outputs": [
    {
     "data": {
      "text/plain": [
       "3"
      ]
     },
     "execution_count": 17,
     "metadata": {},
     "output_type": "execute_result"
    }
   ],
   "source": [
    "# Checking Array Dimensions\n",
    "X_train.ndim"
   ]
  },
  {
   "cell_type": "code",
   "execution_count": 18,
   "metadata": {
    "id": "8MYnZnwao9S5"
   },
   "outputs": [],
   "source": [
    "# Reshaping\n",
    "X_train=X_train.reshape(X_train.shape[0],48, 48, 1)\n",
    "X_test=X_test.reshape(X_test.shape[0],48,48,1)"
   ]
  },
  {
   "cell_type": "code",
   "execution_count": 19,
   "metadata": {
    "id": "CibQFVYHo9S6"
   },
   "outputs": [],
   "source": [
    "# Encoding For Handling Categorical Values\n",
    "label_encoder = LabelEncoder()\n",
    "Y_train = label_encoder.fit_transform(Y_train)\n",
    "Y_test=label_encoder.fit_transform(Y_test)"
   ]
  },
  {
   "cell_type": "code",
   "execution_count": 20,
   "metadata": {
    "id": "kw0KznCKo9S7"
   },
   "outputs": [],
   "source": [
    "# Converting To Binary Class Matrix\n",
    "Y_train=np_utils.to_categorical(Y_train)"
   ]
  },
  {
   "cell_type": "code",
   "execution_count": 21,
   "metadata": {
    "id": "1d8Yry6Io9S7"
   },
   "outputs": [
    {
     "ename": "TypeError",
     "evalue": "The added layer must be an instance of class Layer. Found: <keras.layers.convolutional.Conv2D object at 0x000001E9139CD630>",
     "output_type": "error",
     "traceback": [
      "\u001b[1;31m---------------------------------------------------------------------------\u001b[0m",
      "\u001b[1;31mTypeError\u001b[0m                                 Traceback (most recent call last)",
      "\u001b[1;32m<ipython-input-21-ed8ca2618606>\u001b[0m in \u001b[0;36m<module>\u001b[1;34m\u001b[0m\n\u001b[0;32m      2\u001b[0m \u001b[0mmodel\u001b[0m\u001b[1;33m=\u001b[0m \u001b[0mSequential\u001b[0m\u001b[1;33m(\u001b[0m\u001b[1;33m)\u001b[0m\u001b[1;33m\u001b[0m\u001b[1;33m\u001b[0m\u001b[0m\n\u001b[0;32m      3\u001b[0m \u001b[1;33m\u001b[0m\u001b[0m\n\u001b[1;32m----> 4\u001b[1;33m \u001b[0mmodel\u001b[0m\u001b[1;33m.\u001b[0m\u001b[0madd\u001b[0m\u001b[1;33m(\u001b[0m\u001b[0mConv2D\u001b[0m\u001b[1;33m(\u001b[0m\u001b[1;36m200\u001b[0m\u001b[1;33m,\u001b[0m \u001b[1;33m(\u001b[0m\u001b[1;36m3\u001b[0m\u001b[1;33m,\u001b[0m\u001b[1;36m3\u001b[0m\u001b[1;33m)\u001b[0m\u001b[1;33m)\u001b[0m\u001b[1;33m)\u001b[0m\u001b[1;33m\u001b[0m\u001b[1;33m\u001b[0m\u001b[0m\n\u001b[0m\u001b[0;32m      5\u001b[0m \u001b[0mmodel\u001b[0m\u001b[1;33m.\u001b[0m\u001b[0madd\u001b[0m\u001b[1;33m(\u001b[0m\u001b[0mActivation\u001b[0m\u001b[1;33m(\u001b[0m\u001b[1;34m'relu'\u001b[0m\u001b[1;33m)\u001b[0m\u001b[1;33m)\u001b[0m\u001b[1;33m\u001b[0m\u001b[1;33m\u001b[0m\u001b[0m\n\u001b[0;32m      6\u001b[0m \u001b[0mmodel\u001b[0m\u001b[1;33m.\u001b[0m\u001b[0madd\u001b[0m\u001b[1;33m(\u001b[0m\u001b[0mMaxPooling2D\u001b[0m\u001b[1;33m(\u001b[0m\u001b[0mpool_size\u001b[0m\u001b[1;33m=\u001b[0m\u001b[1;33m(\u001b[0m\u001b[1;36m2\u001b[0m\u001b[1;33m,\u001b[0m\u001b[1;36m2\u001b[0m\u001b[1;33m)\u001b[0m\u001b[1;33m)\u001b[0m\u001b[1;33m)\u001b[0m\u001b[1;33m\u001b[0m\u001b[1;33m\u001b[0m\u001b[0m\n",
      "\u001b[1;32m~\\AppData\\Roaming\\Python\\Python37\\site-packages\\tensorflow\\python\\training\\tracking\\base.py\u001b[0m in \u001b[0;36m_method_wrapper\u001b[1;34m(self, *args, **kwargs)\u001b[0m\n\u001b[0;32m    455\u001b[0m     \u001b[0mself\u001b[0m\u001b[1;33m.\u001b[0m\u001b[0m_self_setattr_tracking\u001b[0m \u001b[1;33m=\u001b[0m \u001b[1;32mFalse\u001b[0m  \u001b[1;31m# pylint: disable=protected-access\u001b[0m\u001b[1;33m\u001b[0m\u001b[1;33m\u001b[0m\u001b[0m\n\u001b[0;32m    456\u001b[0m     \u001b[1;32mtry\u001b[0m\u001b[1;33m:\u001b[0m\u001b[1;33m\u001b[0m\u001b[1;33m\u001b[0m\u001b[0m\n\u001b[1;32m--> 457\u001b[1;33m       \u001b[0mresult\u001b[0m \u001b[1;33m=\u001b[0m \u001b[0mmethod\u001b[0m\u001b[1;33m(\u001b[0m\u001b[0mself\u001b[0m\u001b[1;33m,\u001b[0m \u001b[1;33m*\u001b[0m\u001b[0margs\u001b[0m\u001b[1;33m,\u001b[0m \u001b[1;33m**\u001b[0m\u001b[0mkwargs\u001b[0m\u001b[1;33m)\u001b[0m\u001b[1;33m\u001b[0m\u001b[1;33m\u001b[0m\u001b[0m\n\u001b[0m\u001b[0;32m    458\u001b[0m     \u001b[1;32mfinally\u001b[0m\u001b[1;33m:\u001b[0m\u001b[1;33m\u001b[0m\u001b[1;33m\u001b[0m\u001b[0m\n\u001b[0;32m    459\u001b[0m       \u001b[0mself\u001b[0m\u001b[1;33m.\u001b[0m\u001b[0m_self_setattr_tracking\u001b[0m \u001b[1;33m=\u001b[0m \u001b[0mprevious_value\u001b[0m  \u001b[1;31m# pylint: disable=protected-access\u001b[0m\u001b[1;33m\u001b[0m\u001b[1;33m\u001b[0m\u001b[0m\n",
      "\u001b[1;32m~\\AppData\\Roaming\\Python\\Python37\\site-packages\\tensorflow\\python\\keras\\engine\\sequential.py\u001b[0m in \u001b[0;36madd\u001b[1;34m(self, layer)\u001b[0m\n\u001b[0;32m    180\u001b[0m       raise TypeError('The added layer must be '\n\u001b[0;32m    181\u001b[0m                       \u001b[1;34m'an instance of class Layer. '\u001b[0m\u001b[1;33m\u001b[0m\u001b[1;33m\u001b[0m\u001b[0m\n\u001b[1;32m--> 182\u001b[1;33m                       'Found: ' + str(layer))\n\u001b[0m\u001b[0;32m    183\u001b[0m \u001b[1;33m\u001b[0m\u001b[0m\n\u001b[0;32m    184\u001b[0m     \u001b[0mtf_utils\u001b[0m\u001b[1;33m.\u001b[0m\u001b[0massert_no_legacy_layers\u001b[0m\u001b[1;33m(\u001b[0m\u001b[1;33m[\u001b[0m\u001b[0mlayer\u001b[0m\u001b[1;33m]\u001b[0m\u001b[1;33m)\u001b[0m\u001b[1;33m\u001b[0m\u001b[1;33m\u001b[0m\u001b[0m\n",
      "\u001b[1;31mTypeError\u001b[0m: The added layer must be an instance of class Layer. Found: <keras.layers.convolutional.Conv2D object at 0x000001E9139CD630>"
     ]
    }
   ],
   "source": [
    "# Creating Sequential model and Layers\n",
    "model= Sequential()\n",
    "\n",
    "model.add(Conv2D(200, (3,3)))\n",
    "model.add(Activation('relu'))\n",
    "model.add(MaxPooling2D(pool_size=(2,2)))\n",
    "\n",
    "model.add(Conv2D(150, (3,3)))\n",
    "model.add(Activation('relu'))\n",
    "model.add(MaxPooling2D(pool_size=(2,2)))\n",
    "\n",
    "model.add(Conv2D(100, (3,3)))\n",
    "model.add(Activation('relu'))\n",
    "model.add(MaxPooling2D(pool_size=(2,2)))\n",
    "\n",
    "model.add(Dropout((0.4)))\n",
    "model.add(Flatten())\n",
    "\n",
    "model.add(Dense(100,activation='relu'))\n",
    "model.add(Dense(7,activation='softmax'))\n",
    "\n",
    "# Compiling Model\n",
    "model.compile(loss='categorical_crossentropy', optimizer='adam', metrics=['accuracy'])"
   ]
  },
  {
   "cell_type": "code",
   "execution_count": null,
   "metadata": {
    "id": "H2qa01Yao9S8",
    "outputId": "a410b469-b8be-4f4f-a410-35eccddfd16e"
   },
   "outputs": [
    {
     "name": "stdout",
     "output_type": "stream",
     "text": [
      "Epoch 1/50\n",
      "628/628 [==============================] - 420s 666ms/step - loss: 1.8161 - accuracy: 0.2501 - val_loss: 1.6282 - val_accuracy: 0.3457\n",
      "INFO:tensorflow:Assets written to: model-ED\\assets\n",
      "Epoch 2/50\n",
      "628/628 [==============================] - 443s 705ms/step - loss: 1.5837 - accuracy: 0.3767 - val_loss: 1.4775 - val_accuracy: 0.4262\n",
      "INFO:tensorflow:Assets written to: model-ED\\assets\n",
      "Epoch 3/50\n",
      "628/628 [==============================] - 505s 804ms/step - loss: 1.4406 - accuracy: 0.4444 - val_loss: 1.3612 - val_accuracy: 0.4705\n",
      "INFO:tensorflow:Assets written to: model-ED\\assets\n",
      "Epoch 4/50\n",
      "628/628 [==============================] - 462s 736ms/step - loss: 1.3612 - accuracy: 0.4750 - val_loss: 1.3298 - val_accuracy: 0.4891\n",
      "INFO:tensorflow:Assets written to: model-ED\\assets\n",
      "Epoch 5/50\n",
      "628/628 [==============================] - 408s 649ms/step - loss: 1.2966 - accuracy: 0.5028 - val_loss: 1.3136 - val_accuracy: 0.5060\n",
      "INFO:tensorflow:Assets written to: model-ED\\assets\n",
      "Epoch 6/50\n",
      "628/628 [==============================] - 405s 645ms/step - loss: 1.2456 - accuracy: 0.5208 - val_loss: 1.2463 - val_accuracy: 0.5183\n",
      "INFO:tensorflow:Assets written to: model-ED\\assets\n",
      "Epoch 7/50\n",
      "628/628 [==============================] - 402s 640ms/step - loss: 1.1994 - accuracy: 0.5413 - val_loss: 1.2424 - val_accuracy: 0.5213\n",
      "INFO:tensorflow:Assets written to: model-ED\\assets\n",
      "Epoch 8/50\n",
      "628/628 [==============================] - 404s 644ms/step - loss: 1.1798 - accuracy: 0.5517 - val_loss: 1.2395 - val_accuracy: 0.5269\n",
      "INFO:tensorflow:Assets written to: model-ED\\assets\n",
      "Epoch 9/50\n",
      "628/628 [==============================] - 403s 641ms/step - loss: 1.1340 - accuracy: 0.5688 - val_loss: 1.2021 - val_accuracy: 0.5422\n",
      "INFO:tensorflow:Assets written to: model-ED\\assets\n",
      "Epoch 10/50\n",
      "628/628 [==============================] - 403s 642ms/step - loss: 1.1027 - accuracy: 0.5817 - val_loss: 1.2121 - val_accuracy: 0.5402\n",
      "Epoch 11/50\n",
      "628/628 [==============================] - 404s 643ms/step - loss: 1.0785 - accuracy: 0.5808 - val_loss: 1.2056 - val_accuracy: 0.5472\n",
      "Epoch 12/50\n",
      "628/628 [==============================] - 404s 643ms/step - loss: 1.0435 - accuracy: 0.6075 - val_loss: 1.1814 - val_accuracy: 0.5539\n",
      "INFO:tensorflow:Assets written to: model-ED\\assets\n",
      "Epoch 13/50\n",
      "628/628 [==============================] - 403s 642ms/step - loss: 1.0112 - accuracy: 0.6168 - val_loss: 1.1837 - val_accuracy: 0.5567\n",
      "Epoch 14/50\n",
      "628/628 [==============================] - 402s 640ms/step - loss: 0.9969 - accuracy: 0.6260 - val_loss: 1.1954 - val_accuracy: 0.5464\n",
      "Epoch 15/50\n",
      "628/628 [==============================] - 402s 641ms/step - loss: 0.9668 - accuracy: 0.6352 - val_loss: 1.1966 - val_accuracy: 0.5545\n",
      "Epoch 16/50\n",
      "628/628 [==============================] - 402s 641ms/step - loss: 0.9558 - accuracy: 0.6431 - val_loss: 1.1914 - val_accuracy: 0.5523\n",
      "Epoch 17/50\n",
      "628/628 [==============================] - 403s 641ms/step - loss: 0.9358 - accuracy: 0.6483 - val_loss: 1.1927 - val_accuracy: 0.5607\n",
      "Epoch 18/50\n",
      "628/628 [==============================] - 402s 640ms/step - loss: 0.9011 - accuracy: 0.6681 - val_loss: 1.2149 - val_accuracy: 0.5533\n",
      "Epoch 19/50\n",
      "628/628 [==============================] - 398s 634ms/step - loss: 0.8872 - accuracy: 0.6668 - val_loss: 1.1907 - val_accuracy: 0.5529\n",
      "Epoch 20/50\n",
      "628/628 [==============================] - 398s 635ms/step - loss: 0.8688 - accuracy: 0.6717 - val_loss: 1.2186 - val_accuracy: 0.5611\n",
      "Epoch 21/50\n",
      "628/628 [==============================] - 397s 633ms/step - loss: 0.8464 - accuracy: 0.6805 - val_loss: 1.2317 - val_accuracy: 0.5500\n",
      "Epoch 22/50\n",
      "628/628 [==============================] - 398s 633ms/step - loss: 0.8447 - accuracy: 0.6834 - val_loss: 1.2169 - val_accuracy: 0.5543\n",
      "Epoch 23/50\n",
      "628/628 [==============================] - 398s 633ms/step - loss: 0.8155 - accuracy: 0.6930 - val_loss: 1.2082 - val_accuracy: 0.5605\n",
      "Epoch 24/50\n",
      "628/628 [==============================] - 398s 633ms/step - loss: 0.8134 - accuracy: 0.6922 - val_loss: 1.2283 - val_accuracy: 0.5492\n",
      "Epoch 25/50\n",
      "628/628 [==============================] - 399s 635ms/step - loss: 0.7933 - accuracy: 0.7026 - val_loss: 1.2228 - val_accuracy: 0.5565\n",
      "Epoch 26/50\n",
      "628/628 [==============================] - 397s 632ms/step - loss: 0.7803 - accuracy: 0.7005 - val_loss: 1.2450 - val_accuracy: 0.5575\n",
      "Epoch 27/50\n",
      "628/628 [==============================] - 399s 635ms/step - loss: 0.7453 - accuracy: 0.7185 - val_loss: 1.2510 - val_accuracy: 0.5523\n",
      "Epoch 28/50\n",
      "628/628 [==============================] - 398s 633ms/step - loss: 0.7407 - accuracy: 0.7260 - val_loss: 1.2656 - val_accuracy: 0.5607\n",
      "Epoch 29/50\n",
      "628/628 [==============================] - 397s 633ms/step - loss: 0.7186 - accuracy: 0.7270 - val_loss: 1.2958 - val_accuracy: 0.5601\n",
      "Epoch 30/50\n",
      "628/628 [==============================] - 401s 639ms/step - loss: 0.7026 - accuracy: 0.7436 - val_loss: 1.2924 - val_accuracy: 0.5529\n",
      "Epoch 31/50\n",
      "628/628 [==============================] - 398s 633ms/step - loss: 0.7043 - accuracy: 0.7326 - val_loss: 1.3156 - val_accuracy: 0.5585\n",
      "Epoch 32/50\n",
      "628/628 [==============================] - 398s 634ms/step - loss: 0.6939 - accuracy: 0.7405 - val_loss: 1.3241 - val_accuracy: 0.5500\n",
      "Epoch 33/50\n",
      "628/628 [==============================] - 398s 633ms/step - loss: 0.6731 - accuracy: 0.7501 - val_loss: 1.3507 - val_accuracy: 0.5468\n",
      "Epoch 34/50\n",
      "628/628 [==============================] - 398s 634ms/step - loss: 0.6688 - accuracy: 0.7538 - val_loss: 1.3442 - val_accuracy: 0.5539\n",
      "Epoch 35/50\n",
      "628/628 [==============================] - 404s 644ms/step - loss: 0.6538 - accuracy: 0.7551 - val_loss: 1.3609 - val_accuracy: 0.5472\n",
      "Epoch 36/50\n",
      "628/628 [==============================] - 402s 639ms/step - loss: 0.6463 - accuracy: 0.7604 - val_loss: 1.3674 - val_accuracy: 0.5521\n",
      "Epoch 37/50\n",
      "628/628 [==============================] - 403s 642ms/step - loss: 0.6479 - accuracy: 0.7565 - val_loss: 1.3713 - val_accuracy: 0.5484\n",
      "Epoch 38/50\n",
      "628/628 [==============================] - 403s 642ms/step - loss: 0.6223 - accuracy: 0.7669 - val_loss: 1.4079 - val_accuracy: 0.5514\n",
      "Epoch 39/50\n",
      "628/628 [==============================] - 403s 642ms/step - loss: 0.6130 - accuracy: 0.7687 - val_loss: 1.3979 - val_accuracy: 0.5533\n",
      "Epoch 40/50\n",
      "628/628 [==============================] - 403s 642ms/step - loss: 0.6105 - accuracy: 0.7747 - val_loss: 1.4084 - val_accuracy: 0.5504\n",
      "Epoch 41/50\n",
      "628/628 [==============================] - 404s 643ms/step - loss: 0.5962 - accuracy: 0.7795 - val_loss: 1.4159 - val_accuracy: 0.5510\n",
      "Epoch 42/50\n",
      "628/628 [==============================] - 404s 644ms/step - loss: 0.5907 - accuracy: 0.7807 - val_loss: 1.4368 - val_accuracy: 0.5520\n",
      "Epoch 43/50\n",
      "628/628 [==============================] - 405s 644ms/step - loss: 0.5621 - accuracy: 0.7947 - val_loss: 1.4876 - val_accuracy: 0.5428\n",
      "Epoch 44/50\n",
      "628/628 [==============================] - 403s 642ms/step - loss: 0.5895 - accuracy: 0.7785 - val_loss: 1.4261 - val_accuracy: 0.5454\n",
      "Epoch 45/50\n",
      "628/628 [==============================] - 405s 646ms/step - loss: 0.5699 - accuracy: 0.7939 - val_loss: 1.4387 - val_accuracy: 0.5555\n",
      "Epoch 46/50\n",
      "628/628 [==============================] - 403s 641ms/step - loss: 0.5469 - accuracy: 0.7988 - val_loss: 1.4920 - val_accuracy: 0.5468\n",
      "Epoch 47/50\n",
      "628/628 [==============================] - 403s 642ms/step - loss: 0.5508 - accuracy: 0.7940 - val_loss: 1.4383 - val_accuracy: 0.5488\n",
      "Epoch 48/50\n",
      "628/628 [==============================] - 399s 635ms/step - loss: 0.5329 - accuracy: 0.8016 - val_loss: 1.4897 - val_accuracy: 0.5484\n",
      "Epoch 49/50\n",
      "628/628 [==============================] - 399s 636ms/step - loss: 0.5422 - accuracy: 0.8016 - val_loss: 1.4653 - val_accuracy: 0.5488\n",
      "Epoch 50/50\n",
      "628/628 [==============================] - 522s 831ms/step - loss: 0.5361 - accuracy: 0.8065 - val_loss: 1.4746 - val_accuracy: 0.5476\n"
     ]
    },
    {
     "data": {
      "text/plain": [
       "<tensorflow.python.keras.callbacks.History at 0x2aeb8013370>"
      ]
     },
     "execution_count": 17,
     "metadata": {
      "tags": []
     },
     "output_type": "execute_result"
    }
   ],
   "source": [
    "# Saving Model For Future Use\n",
    "cp = ModelCheckpoint('model-ED', verbose=0, save_best_only=True)\n",
    "# Training Model\n",
    "model.fit(X_train, Y_train, epochs = 50,  callbacks=[cp], validation_split=0.2)"
   ]
  },
  {
   "cell_type": "code",
   "execution_count": null,
   "metadata": {
    "id": "ubQ4fjDWo9S-"
   },
   "outputs": [],
   "source": [
    "# Importing Libraries For Loading Model\n",
    "from keras.models import load_model"
   ]
  },
  {
   "cell_type": "code",
   "execution_count": null,
   "metadata": {
    "id": "6WN4pw--o9TD"
   },
   "outputs": [],
   "source": [
    "# Loading Model\n",
    "model=load_model('model-best')"
   ]
  },
  {
   "cell_type": "code",
   "execution_count": null,
   "metadata": {
    "id": "4zh3_PGYo9TE"
   },
   "outputs": [],
   "source": [
    "# For Face Detection\n",
    "face_detect=cv2.CascadeClassifier(r'haarcascade_frontalface_default.xml')"
   ]
  },
  {
   "cell_type": "code",
   "execution_count": null,
   "metadata": {
    "id": "h7YBFQ7wo9TE"
   },
   "outputs": [],
   "source": [
    "# Capturing Video\n",
    "source = cv2.VideoCapture(0)\n",
    "\n",
    "while True:\n",
    "    not_to_use, image = source.read()\n",
    "    gray = cv2.cvtColor(image, cv2.COLOR_BGR2GRAY)\n",
    "    faces = face_detect.detectMultiScale(gray, 1.5,5)\n",
    "    for (x, y, w, h) in faces:\n",
    "        face_roi = gray[y:y+w, x:x+w]\n",
    "        resized_face = cv2.resize(face_roi, (100, 100))\n",
    "        normalized_Face = resized_face/255\n",
    "        reshaped_face = np.reshape(normalized_Face, (1, 100, 100, 1))\n",
    "        result = model.predict(reshaped_face)[0]\n",
    "        \n",
    "        # Using 5 Emotions as per definition        \n",
    "       \n",
    "        if np.amax(result)==result[0]:\n",
    "            cv2.rectangle(image,(x,y),(x+w,y+h),(255,0,0),2)\n",
    "            cv2.putText(image,\"Angry\",(x,y),cv2.FONT_HERSHEY_SIMPLEX,fontScale=1,color=(255,0,0),thickness=2)\n",
    "        if np.amax(result)==result[1]:\n",
    "            cv2.rectangle(image,(x,y),(x+w,y+h),(255,0,255),2)\n",
    "            cv2.putText(image,\"happy\",(x,y),cv2.FONT_HERSHEY_SIMPLEX,fontScale=1,color=(255,0,255),thickness=2)\n",
    "        if np.amax(result)==result[2]:\n",
    "            cv2.rectangle(image,(x,y),(x+w,y+h),(0,255,0),2)\n",
    "            cv2.putText(image,\"neutral\",(x,y),cv2.FONT_HERSHEY_SIMPLEX,fontScale=1,color=(0,255,0),thickness=2)\n",
    "        if np.amax(result)==result[3]:\n",
    "            cv2.rectangle(image,(x,y),(x+w,y+h),(255,255,50),2)\n",
    "            cv2.putText(image,\"sad\",(x,y),cv2.FONT_HERSHEY_SIMPLEX,fontScale=1,color=(255,255,50),thickness=2)\n",
    "        if np.amax(result)==result[4]:\n",
    "            cv2.rectangle(image,(x,y),(x+w,y+h),(17,17,17),2)\n",
    "            cv2.putText(image,\"surprised\",(x,y),cv2.FONT_HERSHEY_SIMPLEX,fontScale=1,color=(17,17,17),thickness=2)\n",
    "\n",
    "    Height=600\n",
    "    Width=600\n",
    "    dimension = (Width, Height)\n",
    "    resized_image = cv2.resize(image, dimension, interpolation = cv2.INTER_AREA)\n",
    "\n",
    "    cv2.imshow('Verzeo Final Project', resized_image)\n",
    "    key = cv2.waitKey(1)\n",
    "    if key == 27:\n",
    "        break\n",
    "        \n",
    "cv2.destroyAllWindows()\n",
    "source.release()\n",
    "    "
   ]
  },
  {
   "cell_type": "code",
   "execution_count": null,
   "metadata": {
    "id": "0V3PIrmOo9TF"
   },
   "outputs": [],
   "source": []
  }
 ],
 "metadata": {
  "colab": {
   "name": "EmotionDetection.IPYNB",
   "provenance": []
  },
  "kernelspec": {
   "display_name": "Python 3",
   "language": "python",
   "name": "python3"
  },
  "language_info": {
   "codemirror_mode": {
    "name": "ipython",
    "version": 3
   },
   "file_extension": ".py",
   "mimetype": "text/x-python",
   "name": "python",
   "nbconvert_exporter": "python",
   "pygments_lexer": "ipython3",
   "version": "3.7.3"
  }
 },
 "nbformat": 4,
 "nbformat_minor": 1
}
